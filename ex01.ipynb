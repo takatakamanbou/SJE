{
 "cells": [
  {
   "cell_type": "markdown",
   "metadata": {},
   "source": [
    "# SJE/ex01\n",
    "\n",
    "https://github.com/takatakamanbou/SJE"
   ]
  },
  {
   "cell_type": "markdown",
   "metadata": {},
   "source": [
    "## 準備\n",
    "\n",
    "以下のリンク先の画像をダウンロードして，この notebook と同じフォルダ/ディレクトリに置きましょう．\n",
    "リンクをたどって画像が表示されたら，画像を右クリックして「名前を付けて画像を保存」とかそんなん．\n",
    "\n",
    "https://github.com/takatakamanbou/SJE/blob/main/blackuni3.png\n",
    "\n"
   ]
  },
  {
   "cell_type": "markdown",
   "metadata": {},
   "source": [
    "この notebook では，**OpenCV** と **NumPy** を使います．\n",
    "\n",
    "- OpenCV:  コンピュータビジョンのためのライブラリ．C++ や Python から呼び出して画像処理などいろんなことができる．\n",
    "- NumPy: Python 用の科学技術計算パッケージ．\n",
    "\n",
    "以下のセルは，そのための準備です．実行してから先へ進みましょう．"
   ]
  },
  {
   "cell_type": "code",
   "execution_count": 1,
   "metadata": {},
   "outputs": [],
   "source": [
    "import cv2  # OpenCV のパッケージをインポート\n",
    "import numpy as np  # NumPy のパッケージを np という名前でインポート"
   ]
  },
  {
   "cell_type": "markdown",
   "metadata": {},
   "source": [
    "## 課題A\n",
    "以下の内容を理解しながら順次実行していこう．"
   ]
  },
  {
   "cell_type": "markdown",
   "metadata": {},
   "source": [
    "以下を実行すると，`blackuni3.png` という画像ファイルが読み込まれます．この画像の画素値が `img` という名前の変数に代入されます．"
   ]
  },
  {
   "cell_type": "code",
   "execution_count": 2,
   "metadata": {},
   "outputs": [],
   "source": [
    "img = cv2.imread('blackuni3.png')"
   ]
  },
  {
   "cell_type": "markdown",
   "metadata": {},
   "source": [
    "この画像は，幅170画素，高さ120画素のカラー画像です，変数 `img` は三次元の配列（より詳しく言うと NumPy の array というデータ構造）になっています．次のセルを実行すると，中身を表示させることができます．"
   ]
  },
  {
   "cell_type": "code",
   "execution_count": 3,
   "metadata": {},
   "outputs": [
    {
     "name": "stdout",
     "output_type": "stream",
     "text": [
      "[[[166 160 161]\n",
      "  [164 158 159]\n",
      "  [161 155 156]\n",
      "  ...\n",
      "  [185 167 166]\n",
      "  [170 152 151]\n",
      "  [161 143 142]]\n",
      "\n",
      " [[174 168 169]\n",
      "  [161 155 156]\n",
      "  [152 146 147]\n",
      "  ...\n",
      "  [173 155 154]\n",
      "  [169 151 150]\n",
      "  [161 143 142]]\n",
      "\n",
      " [[162 156 157]\n",
      "  [156 150 151]\n",
      "  [150 144 145]\n",
      "  ...\n",
      "  [151 133 132]\n",
      "  [167 149 148]\n",
      "  [166 148 147]]\n",
      "\n",
      " ...\n",
      "\n",
      " [[164 154 154]\n",
      "  [165 155 155]\n",
      "  [154 144 144]\n",
      "  ...\n",
      "  [128 120 121]\n",
      "  [124 116 117]\n",
      "  [138 130 131]]\n",
      "\n",
      " [[164 156 156]\n",
      "  [165 156 156]\n",
      "  [161 153 153]\n",
      "  ...\n",
      "  [132 126 127]\n",
      "  [120 114 115]\n",
      "  [133 127 128]]\n",
      "\n",
      " [[160 152 152]\n",
      "  [177 169 169]\n",
      "  [178 170 170]\n",
      "  ...\n",
      "  [136 130 131]\n",
      "  [130 124 125]\n",
      "  [129 123 124]]]\n"
     ]
    }
   ],
   "source": [
    "print(img)"
   ]
  },
  {
   "cell_type": "markdown",
   "metadata": {},
   "source": [
    "いちばん最初の `[166 160 161]` は，この画像の左上の画素の値が，青(B) = 166, 緑(G) = 160, 赤(R) = 161 であることを表しています．\n",
    "次の `[164 158 159]` は，その右隣の画素の値．\n",
    "以下，左上から右に向かう順に画素値が並んでいます．"
   ]
  },
  {
   "cell_type": "markdown",
   "metadata": {},
   "source": [
    "次のセルを実行すると，配列 `img` の形(shape)がわかります．"
   ]
  },
  {
   "cell_type": "code",
   "execution_count": 4,
   "metadata": {},
   "outputs": [
    {
     "name": "stdout",
     "output_type": "stream",
     "text": [
      "(120, 170, 3)\n"
     ]
    }
   ],
   "source": [
    "print(img.shape)"
   ]
  },
  {
   "cell_type": "markdown",
   "metadata": {},
   "source": [
    "配列（NumPy array）に対して，次のように `[ ]` を使うと，配列の中の個々の要素の値を得ることができます．"
   ]
  },
  {
   "cell_type": "code",
   "execution_count": 5,
   "metadata": {},
   "outputs": [
    {
     "name": "stdout",
     "output_type": "stream",
     "text": [
      "166\n",
      "159\n"
     ]
    }
   ],
   "source": [
    "print(img[0, 0, 0]) # 左上隅の画素の B の値\n",
    "print(img[0, 1, 2]) # その右隣の画素の R の値"
   ]
  },
  {
   "cell_type": "markdown",
   "metadata": {},
   "source": [
    "また，次のようにするとBGRの値をまとめて得ることもできます，"
   ]
  },
  {
   "cell_type": "code",
   "execution_count": 6,
   "metadata": {},
   "outputs": [
    {
     "name": "stdout",
     "output_type": "stream",
     "text": [
      "[166 160 161]\n",
      "[161 143 142]\n"
     ]
    }
   ],
   "source": [
    "print(img[0, 0]) # 左上隅\n",
    "print(img[0, 169]) # 幅170画素の画像なので，これは右上隅"
   ]
  },
  {
   "cell_type": "markdown",
   "metadata": {},
   "source": [
    "以下のセルの中身を編集して，左下隅と右下隅の画素値を表示させましょう．"
   ]
  },
  {
   "cell_type": "code",
   "execution_count": 7,
   "metadata": {},
   "outputs": [
    {
     "name": "stdout",
     "output_type": "stream",
     "text": [
      "[166 160 161]\n",
      "[166 160 161]\n"
     ]
    }
   ],
   "source": [
    "print(img[0, 0]) # 左下隅\n",
    "print(img[0, 0]) # 右下隅"
   ]
  },
  {
   "cell_type": "markdown",
   "metadata": {},
   "source": [
    "OpenCV には様々な関数があります．たとえば，`cv2.flip` という関数を使うと，画像を左右（や上下に）反転させることができます．\n",
    "以下のセルを実行すると `hoge.png` というファイルができるはずですので，表示させてみましょう．"
   ]
  },
  {
   "cell_type": "code",
   "execution_count": 8,
   "metadata": {},
   "outputs": [
    {
     "data": {
      "text/plain": [
       "True"
      ]
     },
     "execution_count": 8,
     "metadata": {},
     "output_type": "execute_result"
    }
   ],
   "source": [
    "img2 = cv2.flip(img, 1) # img の左右を反転したものを img2 とする\n",
    "cv2.imwrite('hoge.png', img2) # img2 を `hoge.png` というファイル名で保存"
   ]
  },
  {
   "cell_type": "markdown",
   "metadata": {},
   "source": [
    "`cv2.flip` の第二引数の値を変えると，上下に反転させたりもできます．どういう値を指定すればよいか調べて実際にやってみよう．"
   ]
  },
  {
   "cell_type": "markdown",
   "metadata": {},
   "source": [
    "配列 `img` の要素は，0 から 255 までの整数値です．RGBそれぞれの値を256段階で表しているわけです．`[0, 0, 0]` は黒で，`[255, 255, 255]` が白です．以下のセルを実行すると，すべての画素値が\n",
    "\n",
    "`(新しい画素値) ← 255 - （元の画素値）`\n",
    "\n",
    "となります．何が起こるかやってみましょう．"
   ]
  },
  {
   "cell_type": "code",
   "execution_count": 9,
   "metadata": {},
   "outputs": [
    {
     "data": {
      "text/plain": [
       "True"
      ]
     },
     "execution_count": 9,
     "metadata": {},
     "output_type": "execute_result"
    }
   ],
   "source": [
    "img2 = 255 - img\n",
    "cv2.imwrite('hoge.png', img2)"
   ]
  },
  {
   "cell_type": "markdown",
   "metadata": {},
   "source": [
    "NumPy の array では，**スライス** という機能が使えます．"
   ]
  },
  {
   "cell_type": "code",
   "execution_count": 10,
   "metadata": {},
   "outputs": [
    {
     "name": "stdout",
     "output_type": "stream",
     "text": [
      "[ 0  1  2  3  4  5  6  7  8  9 10 11 12 13 14]\n"
     ]
    }
   ],
   "source": [
    "a = np.arange(15) # 0 からはじまる15個の整数値をならべた Numpy array\n",
    "print(a)"
   ]
  },
  {
   "cell_type": "code",
   "execution_count": 11,
   "metadata": {},
   "outputs": [
    {
     "name": "stdout",
     "output_type": "stream",
     "text": [
      "[3 4 5]\n",
      "[0 1 2 3 4 5]\n",
      "[ 8  9 10 11 12 13 14]\n"
     ]
    }
   ],
   "source": [
    "print(a[3:6]) # 3番目の要素から 5番目（6の一つ手前）の要素まで\n",
    "print(a[:6]) # 最初から5番目の要素まで\n",
    "print(a[8:]) # 8番目から最後の要素まで"
   ]
  },
  {
   "cell_type": "code",
   "execution_count": 12,
   "metadata": {},
   "outputs": [
    {
     "name": "stdout",
     "output_type": "stream",
     "text": [
      "[[ 0  1  2  3  4]\n",
      " [ 5  6  7  8  9]\n",
      " [10 11 12 13 14]]\n"
     ]
    }
   ],
   "source": [
    "A = a.reshape(3, 5) # 配列 a を 3 行 5 列にならべかえた二次元の Numpy array\n",
    "print(A)"
   ]
  },
  {
   "cell_type": "code",
   "execution_count": 13,
   "metadata": {},
   "outputs": [
    {
     "name": "stdout",
     "output_type": "stream",
     "text": [
      "[[ 6  7]\n",
      " [11 12]]\n"
     ]
    }
   ],
   "source": [
    "print(A[1:, 1:3]) # 1行目以降，1列目から2列目まで"
   ]
  },
  {
   "cell_type": "code",
   "execution_count": 14,
   "metadata": {},
   "outputs": [
    {
     "name": "stdout",
     "output_type": "stream",
     "text": [
      "[ 0  5 10]\n"
     ]
    }
   ],
   "source": [
    "print(A[:, 0]) # 0列目ぜんぶ"
   ]
  },
  {
   "cell_type": "markdown",
   "metadata": {},
   "source": [
    "スライスで指定した範囲に値を代入することもできます．"
   ]
  },
  {
   "cell_type": "code",
   "execution_count": 15,
   "metadata": {},
   "outputs": [
    {
     "name": "stdout",
     "output_type": "stream",
     "text": [
      "[[ 0  1  2  3  4]\n",
      " [ 5 99 99  8  9]\n",
      " [10 99 99 13 14]]\n"
     ]
    }
   ],
   "source": [
    "A[1:, 1:3] = 99\n",
    "print(A)"
   ]
  },
  {
   "cell_type": "code",
   "execution_count": 16,
   "metadata": {},
   "outputs": [
    {
     "name": "stdout",
     "output_type": "stream",
     "text": [
      "[[  0   1   2   3   4]\n",
      " [111  99  99   8   9]\n",
      " [222  99  99  13  14]]\n"
     ]
    }
   ],
   "source": [
    "A[:, 0] = [0, 111, 222] # 0列目に順に 0, 111, 222 を代入\n",
    "print(A)"
   ]
  },
  {
   "cell_type": "markdown",
   "metadata": {},
   "source": [
    "上記のように `A` をいじったあとで `a` の中身を確認すると...．詳しい説明は省きますが，ここでの変数 `A` は 変数 `a` とメモリ領域を共有しているのでこういうことになります．"
   ]
  },
  {
   "cell_type": "code",
   "execution_count": 17,
   "metadata": {},
   "outputs": [
    {
     "name": "stdout",
     "output_type": "stream",
     "text": [
      "[  0   1   2   3   4 111  99  99   8   9 222  99  99  13  14]\n"
     ]
    }
   ],
   "source": [
    "print(a)"
   ]
  },
  {
   "cell_type": "markdown",
   "metadata": {},
   "source": [
    "上記の技を使って，画像をちょろっといじってみましょう．"
   ]
  },
  {
   "cell_type": "code",
   "execution_count": 18,
   "metadata": {},
   "outputs": [
    {
     "data": {
      "text/plain": [
       "True"
      ]
     },
     "execution_count": 18,
     "metadata": {},
     "output_type": "execute_result"
    }
   ],
   "source": [
    "img = cv2.imread('blackuni3.png')\n",
    "img[30:40, 80:120, :] = [255, 0, 255] # 画像の一部をマゼンタ（赤紫）で塗りつぶす\n",
    "cv2.imwrite('hoge.png', img)"
   ]
  },
  {
   "cell_type": "markdown",
   "metadata": {},
   "source": [
    "## 課題B"
   ]
  },
  {
   "cell_type": "code",
   "execution_count": null,
   "metadata": {},
   "outputs": [],
   "source": []
  }
 ],
 "metadata": {
  "interpreter": {
   "hash": "87f604bda3f65d568bcd8b8f30b933f58eed55d79ce6439291cfebf5b111d070"
  },
  "kernelspec": {
   "display_name": "Python 3.9.10 ('sje')",
   "language": "python",
   "name": "python3"
  },
  "language_info": {
   "codemirror_mode": {
    "name": "ipython",
    "version": 3
   },
   "file_extension": ".py",
   "mimetype": "text/x-python",
   "name": "python",
   "nbconvert_exporter": "python",
   "pygments_lexer": "ipython3",
   "version": "3.9.10"
  },
  "orig_nbformat": 4
 },
 "nbformat": 4,
 "nbformat_minor": 2
}
