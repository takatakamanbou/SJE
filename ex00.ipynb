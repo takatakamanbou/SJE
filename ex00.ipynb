{
 "cells": [
  {
   "cell_type": "markdown",
   "metadata": {},
   "source": [
    "# SJE/ex00\n",
    "\n",
    "https://github.com/takatakamanbou/SJE"
   ]
  },
  {
   "cell_type": "markdown",
   "metadata": {},
   "source": [
    "# やってみよう"
   ]
  },
  {
   "cell_type": "markdown",
   "metadata": {},
   "source": [
    "↓の箱（セルと呼びます）をクリックして，Shift+Enterを押す（シフトキーを押しながらエンターキーを押す）か，左端の再生ボタンみたいなのを押すかしてみましょう．\n",
    "\n"
   ]
  },
  {
   "cell_type": "code",
   "execution_count": null,
   "metadata": {},
   "outputs": [],
   "source": [
    "x = 4649\n",
    "y = 1\n",
    "print(x+y)"
   ]
  },
  {
   "cell_type": "markdown",
   "metadata": {},
   "source": [
    "↑ができたら，今度は上記の `y = 1` を `y = 1314` に書き換えてから実行（Shift+Enter）してみよう．"
   ]
  },
  {
   "cell_type": "markdown",
   "metadata": {},
   "source": [
    "上記のようにプログラムのコードが書かれていて実行できるセルとは別に，このセルのように，テキストで説明文などが記されたセルもあります．"
   ]
  },
  {
   "cell_type": "markdown",
   "metadata": {},
   "source": [
    "このセルをダブルクリックすると編集できるので，適当にいじってから Shift+Enter してみよう．\n",
    "\n",
    "ほげほげほげほげ\n",
    "\n",
    "- 箇条書き\n",
    "- かじょーがき\n",
    "- 過剰牡蠣\n",
    "\n",
    "1. いち\n",
    "1. に\n",
    "1. さん"
   ]
  },
  {
   "cell_type": "code",
   "execution_count": null,
   "metadata": {},
   "outputs": [],
   "source": []
  },
  {
   "cell_type": "markdown",
   "metadata": {},
   "source": []
  }
 ],
 "metadata": {
  "interpreter": {
   "hash": "87f604bda3f65d568bcd8b8f30b933f58eed55d79ce6439291cfebf5b111d070"
  },
  "kernelspec": {
   "display_name": "Python 3.9.10 ('sje')",
   "language": "python",
   "name": "python3"
  },
  "language_info": {
   "codemirror_mode": {
    "name": "ipython",
    "version": 3
   },
   "file_extension": ".py",
   "mimetype": "text/x-python",
   "name": "python",
   "nbconvert_exporter": "python",
   "pygments_lexer": "ipython3",
   "version": "3.9.7"
  },
  "orig_nbformat": 4
 },
 "nbformat": 4,
 "nbformat_minor": 2
}
